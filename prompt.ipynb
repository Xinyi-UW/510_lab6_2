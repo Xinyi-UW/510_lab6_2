{
 "cells": [
  {
   "cell_type": "code",
   "execution_count": 28,
   "metadata": {},
   "outputs": [
    {
     "data": {
      "text/plain": [
       "'LLMs prompts practice'"
      ]
     },
     "execution_count": 28,
     "metadata": {},
     "output_type": "execute_result"
    }
   ],
   "source": [
    "\"\"\"LLMs prompts practice\"\"\""
   ]
  },
  {
   "cell_type": "markdown",
   "metadata": {},
   "source": [
    "1.How to use LLMs effectively? (Prompt Engineering)"
   ]
  },
  {
   "cell_type": "code",
   "execution_count": 2,
   "metadata": {},
   "outputs": [
    {
     "name": "stdout",
     "output_type": "stream",
     "text": [
      "Defaulting to user installation because normal site-packages is not writeable\n",
      "Requirement already satisfied: google-generativeai in /Users/xinyizhou/Library/Python/3.9/lib/python/site-packages (0.5.2)\n",
      "Requirement already satisfied: google-ai-generativelanguage==0.6.2 in /Users/xinyizhou/Library/Python/3.9/lib/python/site-packages (from google-generativeai) (0.6.2)\n",
      "Requirement already satisfied: google-api-core in /Users/xinyizhou/Library/Python/3.9/lib/python/site-packages (from google-generativeai) (2.19.0)\n",
      "Requirement already satisfied: google-api-python-client in /Users/xinyizhou/Library/Python/3.9/lib/python/site-packages (from google-generativeai) (2.127.0)\n",
      "Requirement already satisfied: google-auth>=2.15.0 in /Users/xinyizhou/Library/Python/3.9/lib/python/site-packages (from google-generativeai) (2.29.0)\n",
      "Requirement already satisfied: protobuf in /Users/xinyizhou/Library/Python/3.9/lib/python/site-packages (from google-generativeai) (4.25.3)\n",
      "Requirement already satisfied: pydantic in /Users/xinyizhou/Library/Python/3.9/lib/python/site-packages (from google-generativeai) (2.7.1)\n",
      "Requirement already satisfied: tqdm in /Users/xinyizhou/Library/Python/3.9/lib/python/site-packages (from google-generativeai) (4.66.2)\n",
      "Requirement already satisfied: typing-extensions in /Users/xinyizhou/Library/Python/3.9/lib/python/site-packages (from google-generativeai) (4.11.0)\n",
      "Requirement already satisfied: proto-plus<2.0.0dev,>=1.22.3 in /Users/xinyizhou/Library/Python/3.9/lib/python/site-packages (from google-ai-generativelanguage==0.6.2->google-generativeai) (1.23.0)\n",
      "Requirement already satisfied: googleapis-common-protos<2.0.dev0,>=1.56.2 in /Users/xinyizhou/Library/Python/3.9/lib/python/site-packages (from google-api-core->google-generativeai) (1.63.0)\n",
      "Requirement already satisfied: requests<3.0.0.dev0,>=2.18.0 in /Users/xinyizhou/Library/Python/3.9/lib/python/site-packages (from google-api-core->google-generativeai) (2.31.0)\n",
      "Requirement already satisfied: cachetools<6.0,>=2.0.0 in /Users/xinyizhou/Library/Python/3.9/lib/python/site-packages (from google-auth>=2.15.0->google-generativeai) (5.3.3)\n",
      "Requirement already satisfied: pyasn1-modules>=0.2.1 in /Users/xinyizhou/Library/Python/3.9/lib/python/site-packages (from google-auth>=2.15.0->google-generativeai) (0.4.0)\n",
      "Requirement already satisfied: rsa<5,>=3.1.4 in /Users/xinyizhou/Library/Python/3.9/lib/python/site-packages (from google-auth>=2.15.0->google-generativeai) (4.9)\n",
      "Requirement already satisfied: httplib2<1.dev0,>=0.19.0 in /Users/xinyizhou/Library/Python/3.9/lib/python/site-packages (from google-api-python-client->google-generativeai) (0.22.0)\n",
      "Requirement already satisfied: google-auth-httplib2<1.0.0,>=0.2.0 in /Users/xinyizhou/Library/Python/3.9/lib/python/site-packages (from google-api-python-client->google-generativeai) (0.2.0)\n",
      "Requirement already satisfied: uritemplate<5,>=3.0.1 in /Users/xinyizhou/Library/Python/3.9/lib/python/site-packages (from google-api-python-client->google-generativeai) (4.1.1)\n",
      "Requirement already satisfied: annotated-types>=0.4.0 in /Users/xinyizhou/Library/Python/3.9/lib/python/site-packages (from pydantic->google-generativeai) (0.6.0)\n",
      "Requirement already satisfied: pydantic-core==2.18.2 in /Users/xinyizhou/Library/Python/3.9/lib/python/site-packages (from pydantic->google-generativeai) (2.18.2)\n",
      "Requirement already satisfied: grpcio<2.0dev,>=1.33.2 in /Users/xinyizhou/Library/Python/3.9/lib/python/site-packages (from google-api-core[grpc]!=2.0.*,!=2.1.*,!=2.10.*,!=2.2.*,!=2.3.*,!=2.4.*,!=2.5.*,!=2.6.*,!=2.7.*,!=2.8.*,!=2.9.*,<3.0.0dev,>=1.34.1->google-ai-generativelanguage==0.6.2->google-generativeai) (1.63.0)\n",
      "Requirement already satisfied: grpcio-status<2.0.dev0,>=1.33.2 in /Users/xinyizhou/Library/Python/3.9/lib/python/site-packages (from google-api-core[grpc]!=2.0.*,!=2.1.*,!=2.10.*,!=2.2.*,!=2.3.*,!=2.4.*,!=2.5.*,!=2.6.*,!=2.7.*,!=2.8.*,!=2.9.*,<3.0.0dev,>=1.34.1->google-ai-generativelanguage==0.6.2->google-generativeai) (1.62.2)\n",
      "Requirement already satisfied: pyparsing!=3.0.0,!=3.0.1,!=3.0.2,!=3.0.3,<4,>=2.4.2 in /Users/xinyizhou/Library/Python/3.9/lib/python/site-packages (from httplib2<1.dev0,>=0.19.0->google-api-python-client->google-generativeai) (3.1.2)\n",
      "Requirement already satisfied: pyasn1<0.7.0,>=0.4.6 in /Users/xinyizhou/Library/Python/3.9/lib/python/site-packages (from pyasn1-modules>=0.2.1->google-auth>=2.15.0->google-generativeai) (0.6.0)\n",
      "Requirement already satisfied: charset-normalizer<4,>=2 in /Users/xinyizhou/Library/Python/3.9/lib/python/site-packages (from requests<3.0.0.dev0,>=2.18.0->google-api-core->google-generativeai) (3.3.2)\n",
      "Requirement already satisfied: idna<4,>=2.5 in /Users/xinyizhou/Library/Python/3.9/lib/python/site-packages (from requests<3.0.0.dev0,>=2.18.0->google-api-core->google-generativeai) (3.6)\n",
      "Requirement already satisfied: urllib3<3,>=1.21.1 in /Users/xinyizhou/Library/Python/3.9/lib/python/site-packages (from requests<3.0.0.dev0,>=2.18.0->google-api-core->google-generativeai) (2.2.1)\n",
      "Requirement already satisfied: certifi>=2017.4.17 in /Users/xinyizhou/Library/Python/3.9/lib/python/site-packages (from requests<3.0.0.dev0,>=2.18.0->google-api-core->google-generativeai) (2024.2.2)\n",
      "Note: you may need to restart the kernel to use updated packages.\n"
     ]
    }
   ],
   "source": [
    "pip install -U google-generativeai"
   ]
  },
  {
   "cell_type": "code",
   "execution_count": 3,
   "metadata": {},
   "outputs": [
    {
     "name": "stderr",
     "output_type": "stream",
     "text": [
      "/Users/xinyizhou/Library/Python/3.9/lib/python/site-packages/urllib3/__init__.py:35: NotOpenSSLWarning: urllib3 v2 only supports OpenSSL 1.1.1+, currently the 'ssl' module is compiled with 'LibreSSL 2.8.3'. See: https://github.com/urllib3/urllib3/issues/3020\n",
      "  warnings.warn(\n"
     ]
    },
    {
     "name": "stdout",
     "output_type": "stream",
     "text": [
      "**Classical Architecture**\n",
      "\n",
      "* **Ancient Greek:**\n",
      "    * Parthenon (Athens, Greece)\n",
      "    * Temple of Zeus (Olympia, Greece)\n",
      "    * Erechtheion (Athens, Greece)\n",
      "* **Ancient Roman:**\n",
      "    * Colosseum (Rome, Italy)\n",
      "    * Pantheon (Rome, Italy)\n",
      "    * Trajan's Column (Rome, Italy)\n",
      "\n",
      "**Gothic Architecture**\n",
      "\n",
      "* **Notre Dame Cathedral (Paris, France)**\n",
      "* **Chartres Cathedral (Chartres, France)**\n",
      "* **Salisbury Cathedral (Salisbury, England)**\n",
      "\n",
      "**Renaissance Architecture**\n",
      "\n",
      "* **Florence Cathedral (Florence, Italy)**\n",
      "* **St. Peter's Basilica (Rome, Italy)**\n",
      "* **Palazzo Medici (Florence, Italy)**\n",
      "\n",
      "**Baroque Architecture**\n",
      "\n",
      "* **Versailles Palace (Versailles, France)**\n",
      "* **Trevi Fountain (Rome, Italy)**\n",
      "* **Buckingham Palace (London, England)**\n",
      "\n",
      "**Neoclassical Architecture**\n",
      "\n",
      "* **White House (Washington, D.C., USA)**\n",
      "* **Capitol Building (Washington, D.C., USA)**\n",
      "* **British Museum (London, England)**\n",
      "\n",
      "**Modern Architecture**\n",
      "\n",
      "* **Fallingwater (Mill Run, Pennsylvania, USA) by Frank Lloyd Wright**\n",
      "* **Seagram Building (New York City, USA) by Mies van der Rohe**\n",
      "* **Sydney Opera House (Sydney, Australia) by Jørn Utzon**\n",
      "\n",
      "**Contemporary Architecture**\n",
      "\n",
      "* **Burj Khalifa (Dubai, UAE)**\n",
      "* **The Shard (London, England)**\n",
      "* **One World Trade Center (New York City, USA)**\n",
      "\n",
      "**Other Notable Architectural Inspirations:**\n",
      "\n",
      "* **Biosphere (Montreal, Canada)**\n",
      "* **Guggenheim Museum (Bilbao, Spain)**\n",
      "* **Petronas Towers (Kuala Lumpur, Malaysia)**\n",
      "* **Taj Mahal (Agra, India)**\n",
      "* **Great Pyramids of Giza (Giza, Egypt)**\n",
      "---------------\n",
      "**Architectural Design Inspirations for a Sino-Japanese Fusion Villa**\n",
      "\n",
      "**Chinese-Style Indoor Design**\n",
      "\n",
      "* **Materials:** Wood (e.g., mahogany, rosewood), bamboo\n",
      "* **Patterns:** Traditional Chinese motifs (e.g., phoenix, dragon, peony, lotus)\n",
      "* **Elements:**\n",
      "    * Curved rooflines and eaves\n",
      "    * Latticework and screens\n",
      "    * Moon gates and archways\n",
      "    * Ornate carvings and moldings\n",
      "\n",
      "**Japanese-Style Outdoor Design**\n",
      "\n",
      "* **Materials:** Stone, gravel, water\n",
      "* **Elements:**\n",
      "    * Zen gardens with raked gravel and stepping stones\n",
      "    * Water features (e.g., ponds, waterfalls)\n",
      "    * Natural elements (e.g., trees, shrubs, rocks)\n",
      "    * Simple and minimalist design\n",
      "\n",
      "**Image References:**\n",
      "\n",
      "* [Chinese-style villa with intricate wood carvings](https://www.archdaily.com/900361/house-of-the-year-2020-ideal-lakeside-house-daojia-studio)\n",
      "* [Japanese-style garden with Zen aesthetic](https://www.pinterest.com/pin/355390768792689879/)\n",
      "\n",
      "**Case Study:**\n",
      "\n",
      "* **The Temple House, Chengdu, China:** A luxury hotel that seamlessly blends Chinese and Japanese design elements, featuring traditional wooden structures and serene Japanese gardens.\n",
      "\n",
      "**Key Words:**\n",
      "\n",
      "* Sino-Japanese fusion\n",
      "* Traditional Chinese architecture\n",
      "* Japanese landscape design\n",
      "* Zen aesthetic\n",
      "* Woodwork\n",
      "* Patterns\n",
      "* Stone\n",
      "* Water features\n",
      "\n",
      "**Related Articles:**\n",
      "\n",
      "* [The Art of Harmony: Blending Chinese and Japanese Architecture](https://www.designboom.com/architecture/the-art-of-harmony-blending-chinese-and-japanese-architecture-01-06-2019/)\n",
      "* [The Japanese Garden and its Influence on Chinese Architecture](https://www.jstor.org/stable/3755100)\n",
      "* [Traditional Chinese Architecture and Its Modern Revival](https://www.archdaily.com/948177/traditional-chinese-architecture-and-its-modern-revival)\n"
     ]
    }
   ],
   "source": [
    "import getpass\n",
    "import google.generativeai as genai\n",
    "\n",
    "GOOGLE_API_KEY = getpass.getpass()\n",
    "genai.configure(api_key=GOOGLE_API_KEY)\n",
    "\n",
    "model = genai.GenerativeModel('gemini-pro')\n",
    "\n",
    "def gen_content(prompt):\n",
    "    response = model.generate_content(prompt)\n",
    "    print(response.text)\n",
    "\n",
    "prompt1 = \"plz provide architectural inspirations\"\n",
    "\n",
    "prompt2 = \"I am a architect working on ideation stage of architectural design, the clients' needs for this proejct are 'This is a villa. The indoor 200 square meters needs to be made in Chinese style and mainly uses wood and Chinese patterns. The outdoor 100 square meters needs to use Japanese-style landscape and stone.'. Plz basing on these needs, giving me some inspirations of architectural design including images, case study, key words and related articles \"\n",
    "\n",
    "gen_content(prompt1)\n",
    "print('---------------')\n",
    "gen_content(prompt2)"
   ]
  },
  {
   "cell_type": "markdown",
   "metadata": {},
   "source": [
    "Six strategies for getting better results\n",
    "Write clear instructions\n",
    "Provide reference text\n",
    "Split complex tasks into simpler subtasks\n",
    "Give the model time to \"think\"\n",
    "Use external tools\n",
    "Test changes systematically"
   ]
  },
  {
   "cell_type": "code",
   "execution_count": 15,
   "metadata": {},
   "outputs": [
    {
     "name": "stdout",
     "output_type": "stream",
     "text": [
      "**Integrating Chinese Traditional Architecture into Modern Urban Environments**\n",
      "\n",
      "**1. Respect Historical Context:**\n",
      "\n",
      "* Study the history and cultural significance of the traditional architectural style you intend to incorporate.\n",
      "* Identify key elements, such as roof forms, courtyards, and decorative motifs, that are inherent to the style.\n",
      "\n",
      "**2. Adapt to Urban Scale and Density:**\n",
      "\n",
      "* Consider the size and density of the urban environment.\n",
      "* Design smaller-scale traditional elements that can fit within the available space.\n",
      "* Utilize vertical space to create courtyards and terraces.\n",
      "\n",
      "**3. Use Modern Materials and Technologies:**\n",
      "\n",
      "* While maintaining the essence of the traditional style, explore using modern materials such as steel, glass, and concrete.\n",
      "* Utilize advanced construction techniques to achieve energy efficiency and sustainability.\n",
      "\n",
      "**4. Create Harmonious Transitions:**\n",
      "\n",
      "* Gradual transitions between traditional and modern elements create a cohesive design.\n",
      "* Use transitional spaces, such as courtyards or entryways, to smoothly connect different architectural styles.\n",
      "\n",
      "**5. Introduce Contemporary Elements:**\n",
      "\n",
      "* Incorporate modern amenities and technologies that enhance functionality and comfort.\n",
      "* Consider using sustainable and environmentally friendly design practices.\n",
      "\n",
      "**6. Focus on Contextual Integration:**\n",
      "\n",
      "* Design the building to complement the surrounding architecture and landscape.\n",
      "* Consider the color palette, materials, and overall scale to ensure a harmonious fit.\n",
      "\n",
      "**7. Highlight Traditional Elements:**\n",
      "\n",
      "* Accentuate key traditional elements to create visual impact.\n",
      "* Use decorative motifs, such as carvings or tile work, to enhance the aesthetic appeal while respecting the tradition.\n",
      "\n",
      "**8. Create a Sense of Place:**\n",
      "\n",
      "* Design spaces that evoke a sense of belonging and connection to the cultural heritage.\n",
      "* Incorporate elements that foster community interaction, such as courtyards or gathering spaces.\n",
      "\n",
      "**Example Projects:**\n",
      "\n",
      "* **National Centre for the Performing Arts, Beijing (OMA):** A modern interpretation of a traditional Chinese courtyard design, using glass and titanium for a contemporary aesthetic.\n",
      "* **Tianjin Binhai International Cultural Center, Tianjin (Studio Daniel Libeskind):** A complex featuring a traditional Chinese temple-like structure set within a modern glass and steel framework.\n",
      "* **Beijing Daxing International Airport, Beijing (Zaha Hadid Architects):** A futuristic design inspired by traditional Chinese dragon kites, incorporating glass, steel, and a flowing roofline.\n",
      "\n",
      "By thoughtfully integrating traditional Chinese architectural elements into modern urban environments, designers can create spaces that celebrate cultural heritage while embracing contemporary needs and aesthetics.\n"
     ]
    }
   ],
   "source": [
    "# Ask the model to adope a persona\n",
    "\n",
    "prompt = \"You are an expert in architectural design, please help me learn how to design a Chinese traditional architecture in modern urban environment and let it fit in this context\"\n",
    "gen_content(prompt)"
   ]
  },
  {
   "cell_type": "code",
   "execution_count": 16,
   "metadata": {},
   "outputs": [
    {
     "name": "stdout",
     "output_type": "stream",
     "text": [
      "**General Recommendations:**\n",
      "\n",
      "* **Highlight relevant skills and experience:** Emphasize your skills and experience that are most applicable to the Senior Software Engineer role at Amazon. This may include specific programming languages, cloud computing platforms, and software development methodologies.\n",
      "* **Quantify your accomplishments:** Use numbers and metrics to demonstrate the impact of your work. For example, instead of saying \"Developed software solutions,\" say \"Developed software solutions that resulted in a 15% increase in customer satisfaction.\"\n",
      "* **Use keywords:** Include industry-specific keywords and terms that potential employers will be searching for. Review the job description for keywords and incorporate them into your resume.\n",
      "* **Proofread carefully:** Ensure that your resume is free of errors in grammar, spelling, and formatting.\n",
      "\n",
      "**Specific Suggestions:**\n",
      "\n",
      "* **Rename the document:** Change the document name to \"Ian Chen - Senior Software Engineer Resume.\"\n",
      "* **Add a summary statement:** Include a brief (2-3 sentence) summary at the top of the resume that highlights your most relevant skills and experience for the Senior Software Engineer role.\n",
      "* **Expand the skills section:** List specific programming languages, frameworks, and tools that you are proficient in. Quantify your experience with these skills if possible.\n",
      "* **Add a section for certifications:** If you have any relevant certifications, create a separate section to highlight them.\n",
      "* **Tailor to Amazon:** Research Amazon's values and culture and highlight how your skills and experience align with them. For example, if Amazon values customer obsession, emphasize your ability to deliver high-quality software solutions that meet customer needs.\n",
      "* **Proofread carefully:** Ensure that all sections of your resume are grammatically correct, well-written, and free of any errors. Consider having someone else proofread your resume before submitting it.\n"
     ]
    }
   ],
   "source": [
    "# Use delimiters to clearly indicate the distinct parts of the input\n",
    "\n",
    "prompt = \"\"\"You are an expert in technical recruiting. Please read the following resume and job description. Give me suggestion on how to improve my resume\n",
    "\n",
    "<job description>\n",
    "Amazon\n",
    "Senior software engineering\n",
    "The candidate should.....\n",
    "\n",
    "</job description>\n",
    "<resume>\n",
    "Ian Chen\n",
    "Software Engineer\n",
    "</resume>\n",
    "\"\"\"\n",
    "gen_content(prompt)"
   ]
  },
  {
   "cell_type": "code",
   "execution_count": 5,
   "metadata": {},
   "outputs": [
    {
     "name": "stdout",
     "output_type": "stream",
     "text": [
      "Summary: Users must participate in the community by commenting and interacting with others before they can submit posts.\n",
      "Translation: 在你能提交帖子之前，你必须通过评论和与其他用户互动来参与这个社区。\n"
     ]
    }
   ],
   "source": [
    "# Specify the steps required to complete a task\n",
    "prompt = '''\n",
    "Use the following step-by-step instructions to respond to user inputs.\n",
    "\n",
    "Step 1 - The user will provide you with text in triple quotes. Summarize this text in one sentence with a prefix that says \"Summary: \".\n",
    "\n",
    "Step 2 - Translate the summary from Step 1 into Chinese, with a prefix that says \"Translation: \".\n",
    "\n",
    "\"\"\"Please take some time to participate in the community by commenting and engaging with other users. Once your account is older than 3 days, you can try submitting your post again.\"\"\"\n",
    "'''\n",
    "gen_content(prompt)"
   ]
  },
  {
   "cell_type": "code",
   "execution_count": 8,
   "metadata": {},
   "outputs": [
    {
     "name": "stdout",
     "output_type": "stream",
     "text": [
      "**Frontend Framework for Architect Inspiration Website**\n",
      "\n",
      "**Goals:**\n",
      "\n",
      "* Create a visually stunning and engaging website that showcases architectural designs.\n",
      "* Provide an intuitive and user-friendly navigation experience.\n",
      "* Optimize for performance and responsiveness across various devices.\n",
      "\n",
      "**Architecture:**\n",
      "\n",
      "* **Modular Structure:** Divide the website into self-contained components (e.g., header, footer, sidebar, content).\n",
      "* **Component-Based Approach:** Use reusable and interchangeable components to build complex layouts.\n",
      "* **Grid System:** Employ a flexible grid system to align content and provide structure.\n",
      "\n",
      "**Design:**\n",
      "\n",
      "* **Minimalist Design:** Focus on showcasing architectural designs with clean lines and ample white space.\n",
      "* **High-Quality Imagery:** Use visually appealing images to present the projects.\n",
      "* **Typography:** Choose elegant and legible fonts that complement the overall design.\n",
      "* **Color Palette:** Use a muted color palette with accents to highlight important elements.\n",
      "\n",
      "**Navigation:**\n",
      "\n",
      "* **Mega Menu:** Create a responsive mega menu that provides easy access to all pages and categories.\n",
      "* **Scroll-to-Top Button:** Add a \"scroll-to-top\" button to allow users to quickly navigate the page.\n",
      "* **Breadcrumbs:** Include breadcrumbs to assist users in understanding their location within the site.\n",
      "\n",
      "**Performance and Responsiveness:**\n",
      "\n",
      "* **Responsive Design:** Ensure the website adjusts seamlessly to different screen sizes and devices.\n",
      "* **Lazy Loading:** Optimize image loading to reduce initial page load times.\n",
      "* **CSS Preprocessing:** Use CSS preprocessors (e.g., SASS, LESS) to write efficient and maintainable code.\n",
      "* **Performance Monitoring:** Implement tools to monitor website performance and identify potential bottlenecks.\n",
      "\n",
      "**Technologies:**\n",
      "\n",
      "* HTML5\n",
      "* CSS3 (SASS/LESS)\n",
      "* JavaScript (e.g., jQuery, React, Vue)\n",
      "* Responsive Image Sizing (e.g., Picturefill)\n",
      "* Font Rendering Optimization (e.g., Web Font Loader)\n",
      "* Build Tools (e.g., Grunt, Gulp)\n",
      "\n",
      "**Quality Assurance:**\n",
      "\n",
      "* **Cross-Browser Compatibility:** Ensure the website renders consistently across major web browsers.\n",
      "* **Accessibility:** Meet web accessibility guidelines to make the site accessible to all users.\n",
      "* **Code Reviews:** Conduct regular code reviews to maintain code quality and best practices.\n",
      "* **Testing:** Utilize automated testing frameworks to verify the functionality and performance of the website.\n",
      "\n",
      "This framework provides a solid foundation for creating an architect inspiration website that meets the specific requirements of the project. Its emphasis on visual appeal, ease of navigation, performance, and quality ensures a memorable and engaging user experience.\n"
     ]
    }
   ],
   "source": [
    "prompt = '''\n",
    "You are an expert in CSS and HTML programming. You have 20 years of programming experience.\n",
    "Could you design a frontend framework for an Architect Inspiration website\n",
    "'''\n",
    "gen_content(prompt)"
   ]
  },
  {
   "cell_type": "code",
   "execution_count": 9,
   "metadata": {},
   "outputs": [
    {
     "name": "stdout",
     "output_type": "stream",
     "text": [
      "**Alternative Titles:**\n",
      "\n",
      "1. **Ancient Chinese Architecture: A Modern Design Paradigm**\n",
      "2. **The Timeless Art of Chinese Architecture: Inspiring Modern Designs**\n",
      "3. **East Meets West: Harmonizing Traditional Chinese Architecture with Modern Innovation**\n",
      "4. **Harmony in Architecture: Unveiling the Secrets of Chinese Design Principles**\n",
      "5. **From Courtyards to Skyscrapers: The Enduring Influence of Chinese Architecture in Contemporary Design**\n"
     ]
    }
   ],
   "source": [
    "prompt = '''\n",
    "\n",
    "You will be provided with a thesis abstract and a suggested title for it. The thesis title should give the reader a good idea of the topic of the thesis but should also be eye-catching. If the title does not meet these criteria, suggest 5 alternatives.\n",
    "\n",
    "Abstract: \n",
    "\"Chinese architectural inspirations for modern architecture design\" explores how traditional Chinese architectural principles influence contemporary design. It delves into the harmonious blend of nature and structure, elegant simplicity, and balance, while highlighting iconic elements like courtyards, roof styles, and feng shui principles. The abstract emphasizes how these features transcend time, offering a framework for sustainable, culturally rich spaces. By seamlessly integrating age-old wisdom with modern technology, the study showcases innovative, timeless approaches that can inspire architects globally, fostering environments that harmonize aesthetics, functionality, and cultural heritage.\n",
    "Title: Chinese architectural inspirations for modern architecture design\n",
    "\n",
    "\n",
    "'''\n",
    "\n",
    "gen_content(prompt)\n",
    "\n"
   ]
  },
  {
   "cell_type": "code",
   "execution_count": 10,
   "metadata": {},
   "outputs": [
    {
     "name": "stdout",
     "output_type": "stream",
     "text": [
      "Seattle\n"
     ]
    }
   ],
   "source": [
    "# provide reference text\n",
    "prompt = \"\"\"Use the provided articles delimited by triple quotes to answer questions. If the answer cannot be found in the articles, write \"I could not find an answer.\"\n",
    "\n",
    "Article: the rainiest city in the world is Seattle\n",
    "\n",
    "Question: Where is the rainiest city?\n",
    "\"\"\"\n",
    "gen_content(prompt)"
   ]
  },
  {
   "cell_type": "code",
   "execution_count": 11,
   "metadata": {},
   "outputs": [
    {
     "name": "stdout",
     "output_type": "stream",
     "text": [
      "Yes, LLMs are good for chatbots. { \"LLMs can power conversational interfaces and chatbots, engaging in human-like dialogue to assist users, answer questions, and complete tasks.\"}\n"
     ]
    }
   ],
   "source": [
    "# Answer with citations from a reference text\n",
    "prompt = '''You will be provided with a document delimited by triple quotes and a question. Your task is to answer the question using only the provided document and to cite the passage(s) of the document used to answer the question. If the document does not contain the information needed to answer this question then simply write: \"Insufficient information.\" If an answer to the question is provided, it must be annotated with a citation. Use the following format for to cite relevant passages ({\"citation\": …}).\n",
    "\n",
    "\"\"\"\n",
    "Large Language Models are good at the following:\n",
    "Natural Language Processing (NLP) Tasks: LLMs excel at understanding and generating human language, making them useful for tasks like text classification, sentiment analysis, named entity recognition, text summarization, question answering, and more.\n",
    "Conversational AI & Chatbots: LLMs can power conversational interfaces and chatbots, engaging in human-like dialogue to assist users, answer questions, and complete tasks. This has applications in customer service, virtual assistants, and more.\n",
    "Content Generation: LLMs can assist with generating various types of written content, such as articles, blog posts, product descriptions, social media posts, and creative writing. They can help ideate, outline, and even draft full pieces of content.\n",
    "Language Translation: LLMs can be used for machine translation between different languages. Large multilingual models can handle translation for many language pairs.\n",
    "\"\"\"\n",
    "\n",
    "Question: Is Large Language Models good for chatbots?'''\n",
    "gen_content(prompt)"
   ]
  },
  {
   "cell_type": "code",
   "execution_count": 13,
   "metadata": {},
   "outputs": [
    {
     "name": "stdout",
     "output_type": "stream",
     "text": [
      "order_status\n"
     ]
    }
   ],
   "source": [
    "# Multi-step prompting\n",
    "\n",
    "user_input = 'I order the machine 3 days ago and it is still not shipped. When can I expect to receive the product?'\n",
    "\n",
    "prompt1 = f'''You are a expert customer inquery categorizer, please categorize the users input according to the following criteria. Output the category label only.\n",
    "troubleshooting: The user is asking about their device not working correctly\n",
    "refund: The user asks for refund\n",
    "promotion: The user asks for company or product promotions and campaigns\n",
    "order_status: the user asks for shipping status, tracking number, or just general order status inqueries\n",
    "\n",
    "User Input: {user_input}\n",
    "'''\n",
    "category = gen_content(prompt1)\n",
    "\n",
    "if category == 'order_status':\n",
    "    prompt = f\"\"\"You are a helpful customer service assistant, please respond the user inquery about order status with the following rules\n",
    "    - all order will have a processing time of 5 working days\n",
    "    - once shipped there will be a tracking number\n",
    "\n",
    "    User Input: {user_input}\n",
    "    \"\"\"\n",
    "    gen_content(prompt)"
   ]
  },
  {
   "cell_type": "code",
   "execution_count": 14,
   "metadata": {},
   "outputs": [
    {
     "name": "stdout",
     "output_type": "stream",
     "text": [
      "**Fit:** Not a good fit\n",
      "\n",
      "**Strengths:**\n",
      "\n",
      "- Experience in deal sourcing and due diligence\n",
      "- Strong research skills\n",
      "- Ability to manage a team\n",
      "\n",
      "**Weaknesses:**\n",
      "\n",
      "- No experience in product creation or management\n",
      "- No experience in design, mechanical engineering, or project management\n",
      "- No experience working with creative, commercial/sales, marketing, or operations teams\n"
     ]
    }
   ],
   "source": [
    "prompt = \"\"\"\n",
    "Read the following JD and resume, do the following tasks\n",
    "1. Output \"good fit\" or \"not good fit\"\n",
    "2. Give the strengh and weaknesses of the candidate for this job\n",
    "\n",
    "JD: \n",
    "What You'll Do \n",
    "\n",
    "Support PM team with creation of product roadmap, product briefs & financials, milestone reviews, packaging briefs, and go-to-market product plans. \n",
    "Responsible for supporting product pipeline by attending weekly meetings, tracking owned projects, and managing timelines across functions – in partnership with Project Management. \n",
    "Own product line administration, including new product & collateral development support, new item creation in PLM systems, and global/regional line planning tools. \n",
    "Communicate needs, deliverables, and progress across functions with an understanding of seasonal or program timelines and Concept-to-Consumer process. \n",
    "Initiate and coordinate product line inputs for Go-to-Market (GTM) and Commercialization, including Color, Material, Finish (CMF) treatments, packaging, and product/lifestyle imagery.  \n",
    "Lead physical and digital asset coordination for Product Marketing deliverables: requesting, tracking, preparing, and distributing samples to required teams/regions/accounts. Manage physical samples onsite and offsite. Ensure digital assets are accurate, tagged, and complete in asset management systems. \n",
    "Works with Creative, Commercial/Sales, Marketing and Operations on go-to-market activities such as strategic account pitch creation, product rendering/photography assets, copywriting, and inventory planning. \n",
    "  \n",
    "\n",
    "Who You Are \n",
    "\n",
    "Proven understanding of the principles of product creation: design, mechanical engineering, product development, manufacturing, and project management. \n",
    "Able to work in fast paced environment with high attention to detail. \n",
    "Proven ability to manage a wide range of tasks and deliverables for yourself and others; high attention to detail. \n",
    "Take initiative and prioritize tasks; shows good time-management, organizational, problem-prevention and problem-solving skills. \n",
    "Effective written and verbal communication with a wide range of audiences and stakeholders; able to anticipate needs and requests and adjust messaging accordingly. \n",
    "Strong interest in consumer products, consumer insights, and market landscape. \n",
    "  \n",
    "\n",
    "Education and Experience \n",
    "\n",
    "Enrolled in coursework that covers the fundamentals of product development, design, engineering, or marketing. \n",
    "Proficient using Microsoft Word, Excel, PowerPoint, Smartsheet (or a similar project management tool). \n",
    "Prior experience working directly with product management, product development, or design/creative/engineering teams is a plus. \n",
    "Previous Product Management, Industrial Design, or Mechanical Engineering experience a plus. \n",
    "Juniors (3rd year) or above in undergraduate studies preferred. \n",
    "\n",
    "\n",
    "\n",
    "resume:\n",
    "Deal sourcing: lead a team of 7 people, 6 cases invested with $1.8 million. Invested cases: ① Microfeel (Invested): The world’s first multimodal spatial reasoning generation model, fully AI-controlled 3D scene and asset generation, and spatial simulation, rapidly \n",
    "commercialized; ② Linfo.ai (Invested): Self-growing personal information AI, an assistant that helps you digest and use information\n",
    "Due diligence: Responsible for 3 startups; Assisting partners in conducting initial research on nearly 30 startups\n",
    "Research Reports: Researching cutting-edge technology industries (focusing on AI applications, spatial computing, smart hardware, and gaming), analyzing products and markets, and forming research reports\n",
    "Manage entrepreneurship forum: In charge of two online AI startup events with 200 participants\n",
    "\n",
    "\"\"\"\n",
    "\n",
    "gen_content(prompt)"
   ]
  },
  {
   "cell_type": "code",
   "execution_count": 22,
   "metadata": {},
   "outputs": [
    {
     "name": "stdout",
     "output_type": "stream",
     "text": [
      "**Dreaming process**\n",
      "\n",
      "* **Monday:** The dreamer is feeling overwhelmed by the demands of their daily life. They dream of escaping to a simpler world, where they can create something new and be in control.\n",
      "* **Tuesday:** The dreamer begins to work on building their new world. They use their imagination to create a world that is peaceful, harmonious, and sustainable.\n",
      "* **Wednesday:** The dreamer meets other ants who are also interested in building a new world. They work together to create a community of like-minded individuals.\n",
      "* **Thursday:** The dreamer faces challenges in building their new world. They encounter obstacles and setbacks, but they don't give up.\n",
      "* **Friday:** The dreamer's new world is complete. They are proud of what they have accomplished, and they know that they have made a difference in the world.\n",
      "\n",
      "**Answer:**\n",
      "\n",
      "The dream of building a new world in an ant's home is a metaphor for the dreamer's desire to create a better world. The dreamer is tired of the status quo and wants to build a world that is more just, equitable, and sustainable. The dream is a reminder that the dreamer has the power to make a difference in the world. They just need to start by taking small steps and working together with others who share their vision.\n"
     ]
    }
   ],
   "source": [
    "prompt = \"\"\"You are an expert dream explainer, please explain the following dream\n",
    "\n",
    "<dream>I dream I can build a new world in ant's home</dream>\n",
    "\n",
    "\"Anwser\": could you imagine what happen during the dream process, if it's possible could you list what have been thought in this process following timeline from Monday to Friday?\n",
    "And plz output the \"Answer\" follow with \"Dreaming process\"\n",
    "\n",
    "\"Dreaming process\":\n",
    "\"\"\"\n",
    "\n",
    "\n",
    "gen_content(prompt)\n",
    "\n"
   ]
  },
  {
   "cell_type": "code",
   "execution_count": 27,
   "metadata": {},
   "outputs": [
    {
     "name": "stdout",
     "output_type": "stream",
     "text": [
      "```python\n",
      "import requests\n",
      "\n",
      "def get_weather(city):\n",
      "    \"\"\"Get the weather for a given city.\n",
      "\n",
      "    Args:\n",
      "        city (str): The name of the city to get the weather for.\n",
      "\n",
      "    Returns:\n",
      "        str: The weather for the given city.\n",
      "    \"\"\"\n",
      "\n",
      "    # Replace YOUR_API_KEY with your actual API key.\n",
      "    api_key = \"YOUR_API_KEY\"\n",
      "\n",
      "    # Make the API request.\n",
      "    url = \"https://api.openweathermap.org/data/2.5/weather?q={}&appid={}&units=imperial\".format(city, api_key)\n",
      "    response = requests.get(url)\n",
      "\n",
      "    # Check if the API request was successful.\n",
      "    if response.status_code != 200:\n",
      "        raise Exception(\"An error occurred while getting the weather.\")\n",
      "\n",
      "    # Get the weather data from the API response.\n",
      "    weather_data = response.json()\n",
      "\n",
      "    # Return the weather for the given city.\n",
      "    return weather_data[\"weather\"][0][\"description\"]\n",
      "```\n"
     ]
    }
   ],
   "source": [
    "prompt = '''\n",
    "\n",
    "\"\"\"\n",
    "Questions: What is the weather in Seattle?\n",
    "\"\"\"\n",
    "\n",
    "\"\"\"\n",
    "get_weather(\"Seattle\")\n",
    "\"\"\"\n",
    "'''\n",
    "\n",
    "gen_content(prompt)"
   ]
  }
 ],
 "metadata": {
  "kernelspec": {
   "display_name": "Python 3",
   "language": "python",
   "name": "python3"
  },
  "language_info": {
   "codemirror_mode": {
    "name": "ipython",
    "version": 3
   },
   "file_extension": ".py",
   "mimetype": "text/x-python",
   "name": "python",
   "nbconvert_exporter": "python",
   "pygments_lexer": "ipython3",
   "version": "3.9.6"
  }
 },
 "nbformat": 4,
 "nbformat_minor": 2
}
